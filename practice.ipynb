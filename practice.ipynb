{
 "cells": [
  {
   "cell_type": "code",
   "execution_count": 1,
   "id": "67e92505-7a04-49a2-a35d-89073f816ac9",
   "metadata": {},
   "outputs": [
    {
     "name": "stdout",
     "output_type": "stream",
     "text": [
      "Name: Jay\n",
      "Age: 19\n",
      "Grade: A Grade\n"
     ]
    }
   ],
   "source": [
    "studinfo = (\"Jay\",19,\"A Grade\")\n",
    "print(f\"Name: {studinfo[0]}\")\n",
    "print(f\"Age: {studinfo[1]}\")\n",
    "print(f\"Grade: {studinfo[2]}\")"
   ]
  },
  {
   "cell_type": "code",
   "execution_count": 11,
   "id": "92b2e8a6-e478-4eff-9453-23f504aca82a",
   "metadata": {},
   "outputs": [
    {
     "name": "stdout",
     "output_type": "stream",
     "text": [
      "Grocery List: \n",
      "Rice: ₹90\n",
      "Milk: ₹50\n",
      "Eggs: ₹60\n",
      "Bread: ₹45\n",
      "Butter: ₹120\n",
      "\n",
      "Total Cost: ₹365\n"
     ]
    }
   ],
   "source": [
    "gro_itm = [(\"Rice\",90), (\"Milk\",50), (\"Eggs\",60), (\"Bread\",45), (\"Butter\",120)]\n",
    "totalcost = sum(itm[1] for itm in gro_itm)\n",
    "print(\"Grocery List: \")\n",
    "for itm,price in gro_itm:\n",
    "    print(f\"{itm}: ₹{price}\")\n",
    "print(f\"\\nTotal Cost: ₹{totalcost}\")"
   ]
  },
  {
   "cell_type": "code",
   "execution_count": 13,
   "id": "8b4fc017-194c-47b4-bda0-13b25a665217",
   "metadata": {},
   "outputs": [
    {
     "name": "stdout",
     "output_type": "stream",
     "text": [
      "(('Milk', 25), ('Eggs', 50), ('Bread', 20))\n"
     ]
    }
   ],
   "source": [
    "itm = (\"Milk\", \"Eggs\", \"Bread\")\n",
    "prices = (25,50,20)\n",
    "itm_price = tuple(zip(itm,prices))\n",
    "print(itm_price)"
   ]
  },
  {
   "cell_type": "code",
   "execution_count": 27,
   "id": "e9ee4d0f-c0d4-4181-9d08-2ad5e1377715",
   "metadata": {},
   "outputs": [
    {
     "name": "stdout",
     "output_type": "stream",
     "text": [
      "Train Schedule: \n",
      "Rajdhani departs at 10:00\n",
      "Shatabdi departs at 12:30\n",
      "Doronto departs at 17:00\n"
     ]
    }
   ],
   "source": [
    "trn_sch = ((\"Rajdhani\", \"10:00\"), (\"Shatabdi\", \"12:30\"), (\"Doronto\", \"17:00\"))\n",
    "print(\"Train Schedule: \")\n",
    "for trn,time in trn_sch:\n",
    "    print(f\"{trn} departs at {time}\")"
   ]
  },
  {
   "cell_type": "code",
   "execution_count": 31,
   "id": "1f5cc3ff-e0d7-4118-be15-5846f93557d6",
   "metadata": {},
   "outputs": [
    {
     "name": "stdout",
     "output_type": "stream",
     "text": [
      "Employees sorted by salary:\n",
      "('Raj', '30000')\n",
      "('John', '40000')\n",
      "('Alice', '55000')\n"
     ]
    }
   ],
   "source": [
    "empl = [(\"John\", \"40000\"), (\"Alice\", \"55000\"), (\"Raj\", \"30000\")]\n",
    "sortd_empl = sorted(empl, key = lambda x: int(x[1]))\n",
    "print(\"Employees sorted by salary:\")\n",
    "for empl in sortd_empl:\n",
    "    print(empl)"
   ]
  },
  {
   "cell_type": "code",
   "execution_count": 35,
   "id": "ff545129-8048-4286-9d04-b2f04d981d91",
   "metadata": {},
   "outputs": [
    {
     "name": "stdout",
     "output_type": "stream",
     "text": [
      "Number of students who scored above 75: 3\n"
     ]
    }
   ],
   "source": [
    "stud_mrk = (67,88,92,74,76,55)\n",
    "cnt_above_75 = sum(1 for mrk in stud_mrk if mrk > 75)\n",
    "print(f\"Number of students who scored above 75: {cnt_above_75}\")"
   ]
  },
  {
   "cell_type": "code",
   "execution_count": 37,
   "id": "a3f9706e-b46a-41d9-a940-340be33f8119",
   "metadata": {},
   "outputs": [
    {
     "name": "stdout",
     "output_type": "stream",
     "text": [
      "Stock Prices: (154.5, 160.2, 149.8, 170.1)\n",
      "Maximum Stock Price as Tuple: 170.1\n"
     ]
    }
   ],
   "source": [
    "stock_prices = (154.5, 160.2, 149.8, 170.1)\n",
    "max_price_tuple = (max(stock_prices))\n",
    "print(\"Stock Prices:\", stock_prices)\n",
    "print(\"Maximum Stock Price as Tuple:\", max_price_tuple)"
   ]
  },
  {
   "cell_type": "code",
   "execution_count": 39,
   "id": "aeb586c3-ddc7-43da-ab9e-3bb650985a0a",
   "metadata": {},
   "outputs": [
    {
     "name": "stdout",
     "output_type": "stream",
     "text": [
      "Temperature Readings:  (29.5, 30.0, 32.2, 31.5, 28.9)\n",
      "Average Temperature:  30.419999999999998\n"
     ]
    }
   ],
   "source": [
    "temp_read = (29.5, 30.0, 32.2, 31.5, 28.9)\n",
    "avg_temp = sum(temp_read)/ len(temp_read)\n",
    "result = (temp_read, avg_temp)\n",
    "print(\"Temperature Readings: \", result[0])\n",
    "print(\"Average Temperature: \", result[1])"
   ]
  },
  {
   "cell_type": "code",
   "execution_count": 47,
   "id": "03642f83-51be-4533-9ab8-e3fb8ec4cd73",
   "metadata": {},
   "outputs": [
    {
     "name": "stdout",
     "output_type": "stream",
     "text": [
      "Scheduled Appointments: \n",
      "Doctor: 10:00 AM\n",
      "Meeting: 2:00 PM\n"
     ]
    }
   ],
   "source": [
    "appoint_time = ((\"Doctor\", \"10:00 AM\"), (\"Meeting\", \"2:00 PM\"))\n",
    "print (\"Scheduled Appointments: \")\n",
    "for appoint,time in appoint_time:\n",
    "    print(f\"{appoint}: {time}\")"
   ]
  },
  {
   "cell_type": "code",
   "execution_count": 49,
   "id": "0d259647-4311-444e-897a-3d1d500ac400",
   "metadata": {},
   "outputs": [
    {
     "name": "stdout",
     "output_type": "stream",
     "text": [
      "Name: Anil | Phone Number: 9876543210\n",
      "Name: Priya | Phone Number: 9123456780\n"
     ]
    }
   ],
   "source": [
    "cont = [(\"Anil\", \"9876543210\"), (\"Priya\", \"9123456780\")]\n",
    "for contact in cont:\n",
    "    print(\"Name:\", contact[0], \"| Phone Number:\", contact[1])"
   ]
  },
  {
   "cell_type": "code",
   "execution_count": 57,
   "id": "5cd44840-1b7e-4d2b-af5e-ba3c1e5ec753",
   "metadata": {},
   "outputs": [
    {
     "name": "stdout",
     "output_type": "stream",
     "text": [
      "Exam Schedule: \n",
      "Subject: Math , Time: 9:00 AM\n",
      "Subject: Science , Time: 11:30 AM\n",
      "Subject: English , Time: 2:00 PM\n"
     ]
    }
   ],
   "source": [
    "exam_schedule = ((\"Math\", \"9:00 AM\"),(\"Science\", \"11:30 AM\"),(\"English\", \"2:00 PM\"))\n",
    "print(\"Exam Schedule: \")\n",
    "for sub,time in exam_schedule:\n",
    "    print(f\"Subject: {sub} , Time: {time}\")"
   ]
  },
  {
   "cell_type": "code",
   "execution_count": null,
   "id": "1d875a9f-8a7c-45e1-909e-94367f6c2765",
   "metadata": {},
   "outputs": [],
   "source": []
  }
 ],
 "metadata": {
  "kernelspec": {
   "display_name": "Python [conda env:base] *",
   "language": "python",
   "name": "conda-base-py"
  },
  "language_info": {
   "codemirror_mode": {
    "name": "ipython",
    "version": 3
   },
   "file_extension": ".py",
   "mimetype": "text/x-python",
   "name": "python",
   "nbconvert_exporter": "python",
   "pygments_lexer": "ipython3",
   "version": "3.12.7"
  }
 },
 "nbformat": 4,
 "nbformat_minor": 5
}
